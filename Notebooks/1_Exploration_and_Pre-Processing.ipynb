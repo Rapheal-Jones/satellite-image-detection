{
 "cells": [
  {
   "cell_type": "markdown",
   "metadata": {},
   "source": [
    "### Import Packages"
   ]
  },
  {
   "cell_type": "code",
   "execution_count": null,
   "metadata": {},
   "outputs": [],
   "source": [
    "import os\n",
    "import re\n",
    "import numpy as np\n",
    "\n",
    "import rasterio\n",
    "import geopandas as gpd\n",
    "from osgeo import gdal\n",
    "import pickle\n",
    "\n",
    "from PIL import Image\n",
    "import matplotlib.pyplot as plt\n",
    "from skimage.io import imread\n",
    "\n",
    "from functions5 import gdf_to_array, convert_to_8Bit\n",
    "HOME = os.path.expanduser(\"~\")"
   ]
  },
  {
   "cell_type": "code",
   "execution_count": null,
   "metadata": {},
   "outputs": [],
   "source": [
    "data_string = HOME + '/new_project/data/AOI_2_Vegas_Train/RGB-PanSharpen/RGB-PanSharpen_AOI_2_Vegas_img1017.tif'\n",
    "shape_string = HOME + '/new_project/data/AOI_2_Vegas_Train/geojson/buildings_AOI_2_Vegas_img1017.geojson'"
   ]
  },
  {
   "cell_type": "markdown",
   "metadata": {},
   "source": [
    "### Explore TIF Files"
   ]
  },
  {
   "cell_type": "code",
   "execution_count": null,
   "metadata": {},
   "outputs": [],
   "source": [
    "dataset = rasterio.open(data_string)"
   ]
  },
  {
   "cell_type": "code",
   "execution_count": null,
   "metadata": {},
   "outputs": [],
   "source": [
    "dataset.name"
   ]
  },
  {
   "cell_type": "code",
   "execution_count": null,
   "metadata": {},
   "outputs": [],
   "source": [
    "dataset.count"
   ]
  },
  {
   "cell_type": "code",
   "execution_count": null,
   "metadata": {},
   "outputs": [],
   "source": [
    "print(dataset.width)\n",
    "print(dataset.height)"
   ]
  },
  {
   "cell_type": "code",
   "execution_count": null,
   "metadata": {},
   "outputs": [],
   "source": [
    "dataset.meta"
   ]
  },
  {
   "cell_type": "code",
   "execution_count": null,
   "metadata": {},
   "outputs": [],
   "source": [
    "dataset.bounds"
   ]
  },
  {
   "cell_type": "code",
   "execution_count": null,
   "metadata": {},
   "outputs": [],
   "source": [
    "band1 = dataset.read(1)\n",
    "band1"
   ]
  },
  {
   "cell_type": "markdown",
   "metadata": {},
   "source": [
    "### Convert TIF FILES to 8-bit"
   ]
  },
  {
   "cell_type": "code",
   "execution_count": null,
   "metadata": {},
   "outputs": [],
   "source": [
    "filepath = HOME + '/new_project/data/test_data/RGB-PanSharpen/'\n",
    "for file in os.listdir(filepath):\n",
    "    new_dir = HOME '/new_project/data/test_data/RGB-PanSharpen-8bit/'\n",
    "    if not os.path.exists(str(new_dir) + str(file)):\n",
    "#         print(file)\n",
    "        convert_to_8Bit(str(filepath) + str(file), str(new_dir)+str(file))"
   ]
  },
  {
   "cell_type": "markdown",
   "metadata": {},
   "source": [
    "### Explore Geojsons"
   ]
  },
  {
   "cell_type": "code",
   "execution_count": null,
   "metadata": {
    "scrolled": false
   },
   "outputs": [],
   "source": [
    "shapes = gpd.read_file(shape_string)"
   ]
  },
  {
   "cell_type": "code",
   "execution_count": null,
   "metadata": {},
   "outputs": [],
   "source": [
    "shapes.shape"
   ]
  },
  {
   "cell_type": "code",
   "execution_count": null,
   "metadata": {},
   "outputs": [],
   "source": [
    "shapes.crs"
   ]
  },
  {
   "cell_type": "code",
   "execution_count": null,
   "metadata": {},
   "outputs": [],
   "source": [
    "shapes.bounds"
   ]
  },
  {
   "cell_type": "markdown",
   "metadata": {},
   "source": [
    "### Create Image Masks"
   ]
  },
  {
   "cell_type": "code",
   "execution_count": null,
   "metadata": {},
   "outputs": [],
   "source": [
    "i = os.listdir(HOME + '/new_project/data/AOI_2_Vegas_Train/RGB-PanSharpen/')\n",
    "sorted(i)"
   ]
  },
  {
   "cell_type": "code",
   "execution_count": null,
   "metadata": {},
   "outputs": [],
   "source": [
    "for file in os.listdir(HOME + '/new_project/data/AOI_2_Vegas_Train/geojson/'):\n",
    "    new_dir = HOME #+ '/new_project/data/masks/'\n",
    "    regex = str(re.search('(\\d+)(?=.geojson)', file))\n",
    "    data_string = HOME + '/new_project/data/AOI_2_Vegas_Train/RGB-PanSharpen/RGB-PanSharpen_AOI_2_Vegas_img' + regex + '.tif'\n",
    "    try:\n",
    "        shape = gpd.read_file(file)\n",
    "        gdf_to_array(shape, data_string, new_dir + 'img_' + str(regex), burnValue=150)\n",
    "    except:\n",
    "        continue"
   ]
  },
  {
   "cell_type": "markdown",
   "metadata": {},
   "source": [
    "### Explore Image Masks"
   ]
  },
  {
   "cell_type": "code",
   "execution_count": null,
   "metadata": {},
   "outputs": [],
   "source": [
    "im = Image.open(HOME + '/new_project/data/masks/img_1017')"
   ]
  },
  {
   "cell_type": "code",
   "execution_count": null,
   "metadata": {},
   "outputs": [],
   "source": [
    "width, height = im.size"
   ]
  },
  {
   "cell_type": "code",
   "execution_count": null,
   "metadata": {},
   "outputs": [],
   "source": [
    "width"
   ]
  },
  {
   "cell_type": "code",
   "execution_count": null,
   "metadata": {},
   "outputs": [],
   "source": [
    "height"
   ]
  },
  {
   "cell_type": "code",
   "execution_count": null,
   "metadata": {},
   "outputs": [],
   "source": [
    "im"
   ]
  },
  {
   "cell_type": "markdown",
   "metadata": {},
   "source": [
    "### Prepare Image Masks"
   ]
  },
  {
   "cell_type": "code",
   "execution_count": null,
   "metadata": {},
   "outputs": [],
   "source": [
    "# Y - Target\n",
    "mask_list = []\n",
    "\n",
    "mask_filepath = HOME + '/new_project/data/masks/'\n",
    "for file in os.listdir(mask_filepath):\n",
    "    mask_list.append(str(mask_filepath) + str(file))\n",
    "    \n",
    "mask_list_sorted = sorted(mask_list)\n",
    "\n",
    "mask_train = []\n",
    "for mask in mask_list_sorted:\n",
    "    raster = gdal.Open(mask, gdal.GA_ReadOnly)\n",
    "    data = raster.GetRasterBand(1).ReadAsArray()\n",
    "    data = data.reshape(650, 650, 1)\n",
    "    mask_train.append(data)\n",
    "    \n",
    "len(mask_train)"
   ]
  },
  {
   "cell_type": "code",
   "execution_count": null,
   "metadata": {},
   "outputs": [],
   "source": [
    "filepath = HOME + '/new_project/data/pickles/mask_train.pkl'\n",
    "with open(filepath, 'wb') as pkl:\n",
    "    pickle.dump(mask_train,pkl)"
   ]
  },
  {
   "cell_type": "markdown",
   "metadata": {},
   "source": [
    "### Prepare Source Images"
   ]
  },
  {
   "cell_type": "code",
   "execution_count": null,
   "metadata": {},
   "outputs": [],
   "source": [
    "# X - Predictors\n",
    "tif_list = []\n",
    "tif_filepath = HOME + '/new_project/data/AOI_2_Vegas_Train/RGB-PanSharpen-8bit/'\n",
    "for file in os.listdir(tif_filepath):\n",
    "    if file.endswith('.tif'):\n",
    "        tif_list.append(str(tif_filepath) + str(file))\n",
    "\n",
    "tif_list_stack = np.stack(tif_list, axis=0)\n",
    "tif_list_sorted = sorted(tif_list_stack)\n",
    "\n",
    "tif_matched = []\n",
    "for mask in mask_list_sorted:\n",
    "    regex = re.search('img_(\\d+)', mask).group(1)\n",
    "    tif_path = HOME + '/new_project/data/AOI_2_Vegas_Train/RGB-PanSharpen-8bit/RGB-PanSharpen_AOI_2_Vegas_img' + str(regex) + '.tif'\n",
    "    if tif_path in tif_list_sorted:\n",
    "        tif_matched.append(tif_path)\n",
    "        \n",
    "tif_train = []\n",
    "for tif in tif_matched:\n",
    "    data = imread(tif, plugin='tifffile')\n",
    "    tif_train.append(data)\n",
    "\n",
    "len(tif_train)"
   ]
  },
  {
   "cell_type": "code",
   "execution_count": null,
   "metadata": {},
   "outputs": [],
   "source": [
    "filepath = HOME + '/new_project/data/pickles/tif_train.pkl'\n",
    "with open(filepath, 'wb') as pkl:\n",
    "    pickle.dump(tif_train,pkl)"
   ]
  },
  {
   "cell_type": "code",
   "execution_count": null,
   "metadata": {},
   "outputs": [],
   "source": []
  }
 ],
 "metadata": {
  "kernelspec": {
   "display_name": "Python 3",
   "language": "python",
   "name": "python3"
  },
  "language_info": {
   "codemirror_mode": {
    "name": "ipython",
    "version": 3
   },
   "file_extension": ".py",
   "mimetype": "text/x-python",
   "name": "python",
   "nbconvert_exporter": "python",
   "pygments_lexer": "ipython3",
   "version": "3.6.5"
  }
 },
 "nbformat": 4,
 "nbformat_minor": 2
}
