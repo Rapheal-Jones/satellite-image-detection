{
 "cells": [
  {
   "cell_type": "markdown",
   "metadata": {},
   "source": [
    "### Import Modules"
   ]
  },
  {
   "cell_type": "code",
   "execution_count": null,
   "metadata": {
    "scrolled": true
   },
   "outputs": [],
   "source": [
    "import os\n",
    "import pickle\n",
    "import matplotlib.pyplot as plt\n",
    "from skimage.io import imread\n",
    "from keras.models import load_model\n",
    "import keras_metrics\n",
    "from skimage.util.montage import montage2d\n",
    "\n",
    "\n",
    "from matplotlib import image\n",
    "from PIL import Image\n",
    "import numpy as np\n",
    "\n",
    "from functions5 import dice_coef, dice_p_bce, batch_img_gen\n",
    "HOME = os.path.expanduser(\"~\")"
   ]
  },
  {
   "cell_type": "markdown",
   "metadata": {},
   "source": [
    "### Load Network"
   ]
  },
  {
   "cell_type": "code",
   "execution_count": null,
   "metadata": {},
   "outputs": [],
   "source": [
    "model_path = HOME + \"/new_project/Models/model15_full.h5\"\n",
    "model = load_model(model_path, custom_objects={'dice_p_bce': dice_p_bce, 'dice_coef':dice_coef, 'binary_precision':keras_metrics.precision(), 'binary_recall':keras_metrics.precision()})"
   ]
  },
  {
   "cell_type": "markdown",
   "metadata": {},
   "source": [
    "### Load Data"
   ]
  },
  {
   "cell_type": "code",
   "execution_count": null,
   "metadata": {},
   "outputs": [],
   "source": [
    "filepath = HOME + '/new_project/data/pickles/tif_train.pkl'\n",
    "with open(filepath, 'rb') as pkl:\n",
    "    tif_train = pickle.load(pkl)"
   ]
  },
  {
   "cell_type": "code",
   "execution_count": null,
   "metadata": {},
   "outputs": [],
   "source": [
    "filepath = HOME + '/new_project/data/pickles/mask_train.pkl'\n",
    "with open(filepath, 'rb') as pkl:\n",
    "    mask_train = pickle.load(pkl)"
   ]
  },
  {
   "cell_type": "markdown",
   "metadata": {},
   "source": [
    "### Predict Test Set"
   ]
  },
  {
   "cell_type": "code",
   "execution_count": null,
   "metadata": {},
   "outputs": [],
   "source": [
    "valid_gen = batch_img_gen(4, tif_train, mask_train)"
   ]
  },
  {
   "cell_type": "code",
   "execution_count": null,
   "metadata": {},
   "outputs": [],
   "source": [
    "batch_X, batch_y = next(valid_gen)\n",
    "if batch_X.shape[0]>16:\n",
    "    batch_X = batch_X[:16]\n",
    "    batch_y = batch_y[:16]\n",
    "    \n",
    "print('x', batch_X.shape, batch_X.dtype, batch_X.min(), batch_X.max())\n",
    "print('y', batch_y.shape, batch_y.dtype, batch_y.min(), batch_y.max())\n",
    "pred_y = model.predict(batch_X)\n",
    "\n",
    "fig, (ax1, ax2, ax3) = plt.subplots(1, 3, figsize = (24, 8))\n",
    "montage_rgb = lambda x: np.stack([montage2d(x[:, :, :, i]) for i in range(x.shape[3])], -1)\n",
    "ax1.imshow(montage_rgb(batch_X))\n",
    "ax2.set_title('Source Image')\n",
    "ax2.imshow(montage2d(batch_y[:, :, :, 0]), cmap = 'Greys')\n",
    "ax2.set_title('Ground Truth')\n",
    "temp = montage2d(pred_y[:, :, :, 0])\n",
    "ax3.imshow(temp>0.8, cmap = 'Greys')\n",
    "ax3.set_title('Prediction')"
   ]
  },
  {
   "cell_type": "code",
   "execution_count": null,
   "metadata": {},
   "outputs": [],
   "source": [
    "save_path = HOME + '/new_project/images/predictions/'\n",
    "#fig.savefig('model15_pred2.png', dpi=300)"
   ]
  },
  {
   "cell_type": "code",
   "execution_count": null,
   "metadata": {},
   "outputs": [],
   "source": [
    "pred_y = model.predict(batch_X)\n",
    "\n",
    "mask1 = montage2d(batch_y[:, :, :, 0])\n",
    "temp = montage2d(pred_y[:, :, :, 0])\n",
    "mask2 = temp>0.8\n",
    "\n",
    "save_path = HOME + '/new_project/images/overlays/'\n",
    "\n",
    "plt.figure(figsize=(3,4))\n",
    "joint = np.zeros((len(mask1),len(mask1),3))\n",
    "joint[:,:,0] = mask1\n",
    "joint[:,:,1] = mask2\n",
    "plt.figure(figsize=(20,10))\n",
    "plt.imshow(joint)\n",
    "#plt.savefig(str(save_path) + 'model15_over2.png', transparent=True)"
   ]
  },
  {
   "cell_type": "markdown",
   "metadata": {},
   "source": [
    "### Load Disaster Data"
   ]
  },
  {
   "cell_type": "code",
   "execution_count": null,
   "metadata": {},
   "outputs": [],
   "source": [
    "im1_path = HOME + '/new_project/data/disaster/processed/iran_pre_crop.jpg'\n",
    "# im2_path = HOME + '/new_project/data/disaster/worldview-2-iran-missile-facility-destroyed.jpg'\n",
    "\n",
    "# load image as pixel array\n",
    "im1 = Image.open(im1_path)\n",
    "# im2 = Image.open(im2_path)\n",
    "\n",
    "\n",
    "data = image.imread(im1_path)\n",
    "# data2 = image.imread(im2_path)\n",
    "\n",
    "# summarize shape of the pixel array\n",
    "print(data.dtype)\n",
    "print(data.shape)\n",
    "\n",
    "# display the array of pixels as an image\n",
    "plt.imshow(data)\n",
    "plt.show()"
   ]
  },
  {
   "cell_type": "code",
   "execution_count": null,
   "metadata": {},
   "outputs": [],
   "source": [
    "# plt.imshow(data2)\n",
    "# plt.show()"
   ]
  },
  {
   "cell_type": "code",
   "execution_count": null,
   "metadata": {},
   "outputs": [],
   "source": [
    "# filepath = HOME + '/new_project/data/pickles/iran_post_zm.pkl'\n",
    "# with open(filepath, 'rb') as pkl:\n",
    "#     pre = pickle.load(pkl)"
   ]
  },
  {
   "cell_type": "code",
   "execution_count": null,
   "metadata": {},
   "outputs": [],
   "source": [
    "filepath = HOME + '/new_project/data/pickles/iran_post_zm.pkl'\n",
    "with open(filepath, 'rb') as pkl:\n",
    "    post = pickle.load(pkl)"
   ]
  },
  {
   "cell_type": "markdown",
   "metadata": {},
   "source": [
    "### Process Disaster Data"
   ]
  },
  {
   "cell_type": "code",
   "execution_count": null,
   "metadata": {},
   "outputs": [],
   "source": [
    "a = np.asarray(im1)\n",
    "# b = np.asarray(im2)"
   ]
  },
  {
   "cell_type": "code",
   "execution_count": null,
   "metadata": {},
   "outputs": [],
   "source": [
    "a.shape\n",
    "post.shape"
   ]
  },
  {
   "cell_type": "code",
   "execution_count": null,
   "metadata": {},
   "outputs": [],
   "source": [
    "disaster_list = [a, post]"
   ]
  },
  {
   "cell_type": "code",
   "execution_count": null,
   "metadata": {},
   "outputs": [],
   "source": [
    "disaster_gen = batch_img_gen(2, disaster_list, mask_train)"
   ]
  },
  {
   "cell_type": "markdown",
   "metadata": {},
   "source": [
    "### Predict Disaster Data"
   ]
  },
  {
   "cell_type": "code",
   "execution_count": null,
   "metadata": {},
   "outputs": [],
   "source": [
    "disaster_x, t_y = next(disaster_gen)\n",
    "if disaster_x.shape[0]>16:\n",
    "    disaster_x = disaster_x[:16]\n",
    "    t_y = t_y[:16]\n",
    "\n",
    "pred_y = model.predict(disaster_x)\n",
    "\n",
    "fig, (ax1, ax2) = plt.subplots(1, 2, figsize = (32, 16))\n",
    "montage_rgb = lambda x: np.stack([montage2d(x[:, :, :, i]) for i in range(x.shape[3])], -1)\n",
    "ax1.imshow(montage_rgb(disaster_x))\n",
    "ax1.set_title('Source Image')\n",
    "temp = montage2d(pred_y[:, :, :, 0])\n",
    "ax2.imshow(temp>0.8, cmap = 'Greys')\n",
    "ax2.set_title('Prediction')\n",
    "#plt.savefig(str(save_path) + 'disaster.png', transparent=True)"
   ]
  },
  {
   "cell_type": "code",
   "execution_count": null,
   "metadata": {},
   "outputs": [],
   "source": []
  }
 ],
 "metadata": {
  "kernelspec": {
   "display_name": "Python 3",
   "language": "python",
   "name": "python3"
  },
  "language_info": {
   "codemirror_mode": {
    "name": "ipython",
    "version": 3
   },
   "file_extension": ".py",
   "mimetype": "text/x-python",
   "name": "python",
   "nbconvert_exporter": "python",
   "pygments_lexer": "ipython3",
   "version": "3.7.0"
  },
  "toc": {
   "base_numbering": 1,
   "nav_menu": {},
   "number_sections": true,
   "sideBar": true,
   "skip_h1_title": false,
   "title_cell": "Table of Contents",
   "title_sidebar": "Contents",
   "toc_cell": false,
   "toc_position": {},
   "toc_section_display": true,
   "toc_window_display": false
  },
  "varInspector": {
   "cols": {
    "lenName": 16,
    "lenType": 16,
    "lenVar": 40
   },
   "kernels_config": {
    "python": {
     "delete_cmd_postfix": "",
     "delete_cmd_prefix": "del ",
     "library": "var_list.py",
     "varRefreshCmd": "print(var_dic_list())"
    },
    "r": {
     "delete_cmd_postfix": ") ",
     "delete_cmd_prefix": "rm(",
     "library": "var_list.r",
     "varRefreshCmd": "cat(var_dic_list()) "
    }
   },
   "types_to_exclude": [
    "module",
    "function",
    "builtin_function_or_method",
    "instance",
    "_Feature"
   ],
   "window_display": false
  }
 },
 "nbformat": 4,
 "nbformat_minor": 2
}
